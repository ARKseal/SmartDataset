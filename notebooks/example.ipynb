{
 "cells": [
  {
   "cell_type": "code",
   "execution_count": null,
   "source": [
    "# Install SmartDataset\r\n",
    "%pip install git+https: // github.com/ARKseal/smartdataset\r\n"
   ],
   "outputs": [],
   "metadata": {}
  },
  {
   "cell_type": "code",
   "execution_count": null,
   "source": [
    "# Create a preprocessing function\r\n",
    "import os\r\n",
    "import time\r\n",
    "\r\n",
    "\r\n",
    "def func(item):\r\n",
    "    # debugging\r\n",
    "    print(f'Currently running func with item: {item}')\r\n",
    "    time.sleep(3)\r\n",
    "    return item\r\n",
    "\r\n",
    "\r\n",
    "# Define the data\r\n",
    "data = [0, 1, 2, 3, 4, 5]\r\n"
   ],
   "outputs": [],
   "metadata": {}
  },
  {
   "cell_type": "code",
   "execution_count": null,
   "source": [
    "# Import SmartDataset\r\n",
    "import smartdataset\r\n",
    "\r\n",
    "# Clear Cache if needed\r\n",
    "smartdataset.clear_cache()\r\n",
    "\r\n",
    "# Create Dataset with data and set preprocessing function\r\n",
    "ds = smartdataset.SmartDataset(data, preprocess_f=func)\r\n",
    "\r\n",
    "# Iterate over the SmartDataset\r\n",
    "for a in ds:\r\n",
    "    print(a)\r\n",
    "\r\n",
    "    # Wait until cache is written\r\n",
    "    time.sleep(1)\r\n",
    "\r\n",
    "    # Debugging cache\r\n",
    "    print(\r\n",
    "        f'Cache found: {[list(os.listdir(f\"./.smartdataset_cache/{path}\")) for path in os.listdir(\"./.smartdataset_cache\")]}')\r\n"
   ],
   "outputs": [],
   "metadata": {}
  },
  {
   "cell_type": "code",
   "execution_count": null,
   "source": [
    "# Now if you run the iteration again:\r\n",
    "for a in ds:\r\n",
    "    print(a)\r\n",
    "\r\n",
    "    # Debugging cache\r\n",
    "    print(\r\n",
    "        f'Cache found: {[list(os.listdir(f\"./.smartdataset_cache/{path}\")) for path in os.listdir(\"./.smartdataset_cache\")]}')\r\n",
    "\r\n",
    "# Boom! Instant Speed!!!\r\n"
   ],
   "outputs": [],
   "metadata": {}
  }
 ],
 "metadata": {
  "orig_nbformat": 4,
  "language_info": {
   "name": "python",
   "version": "3.9.7",
   "mimetype": "text/x-python",
   "codemirror_mode": {
    "name": "ipython",
    "version": 3
   },
   "pygments_lexer": "ipython3",
   "nbconvert_exporter": "python",
   "file_extension": ".py"
  },
  "kernelspec": {
   "name": "python3",
   "display_name": "Python 3.9.7 64-bit ('venv': venv)"
  },
  "interpreter": {
   "hash": "03aaca90e2980b81f0797d49b7701143038ae103bc80533d528fee7dae48a3b8"
  }
 },
 "nbformat": 4,
 "nbformat_minor": 2
}